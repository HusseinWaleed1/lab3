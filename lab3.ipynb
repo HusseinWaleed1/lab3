{
  "nbformat": 4,
  "nbformat_minor": 0,
  "metadata": {
    "colab": {
      "provenance": [],
      "authorship_tag": "ABX9TyNzA34wPwfAn64eAulVNIcb",
      "include_colab_link": true
    },
    "kernelspec": {
      "name": "python3",
      "display_name": "Python 3"
    },
    "language_info": {
      "name": "python"
    }
  },
  "cells": [
    {
      "cell_type": "markdown",
      "metadata": {
        "id": "view-in-github",
        "colab_type": "text"
      },
      "source": [
        "<a href=\"https://colab.research.google.com/github/HusseinWaleed1/lab3/blob/main/lab3.ipynb\" target=\"_parent\"><img src=\"https://colab.research.google.com/assets/colab-badge.svg\" alt=\"Open In Colab\"/></a>"
      ]
    },
    {
      "cell_type": "markdown",
      "source": [
        "Data Transformation & Statistics\n",
        "8. Z-Score Normalization\n",
        "Take any numeric list.\n",
        "o Write a function that converts the list into z-scores manually.\n",
        "9. Moving Average\n",
        "Generate a list of 20 random integers between 1 and 100.\n",
        "o Compute a moving average with window size 3 using list slicing.\n",
        "o Compare with numpy.convolve().\n",
        "10.Outlier Detection (IQR method)\n",
        "o Generate a list of 25 numbers from 1–50 and add two very large numbers\n",
        "(e.g., 300, 400).\n",
        "o Detect outliers using IQR rules.\n",
        "\n"
      ],
      "metadata": {
        "id": "8ve-QItBI53u"
      }
    },
    {
      "cell_type": "code",
      "execution_count": 1,
      "metadata": {
        "colab": {
          "base_uri": "https://localhost:8080/"
        },
        "id": "3A-bxG-xI0G9",
        "outputId": "9149e290-f58e-4f41-914c-6c4951248528"
      },
      "outputs": [
        {
          "output_type": "stream",
          "name": "stdout",
          "text": [
            "Original: [10, 20, 30, 40, 50]\n",
            "Z-Scores: [-1.414213562373095, -0.7071067811865475, 0.0, 0.7071067811865475, 1.414213562373095]\n"
          ]
        }
      ],
      "source": [
        "# Z-Score Normalization\n",
        "def z_score_normalization(data):\n",
        "    mean = sum(data) / len(data)\n",
        "    std_dev = (sum((x - mean) ** 2 for x in data) / len(data)) ** 0.5\n",
        "    z_scores = [(x - mean) / std_dev for x in data]\n",
        "    return z_scores\n",
        "\n",
        "# Example list\n",
        "data_list = [10, 20, 30, 40, 50]\n",
        "print(\"Original:\", data_list)\n",
        "print(\"Z-Scores:\", z_score_normalization(data_list))"
      ]
    },
    {
      "cell_type": "code",
      "source": [
        "import random\n",
        "import numpy as np\n",
        "\n",
        "# Generate 20 random integers between 1 and 100\n",
        "data = [random.randint(1, 100) for _ in range(20)]\n",
        "\n",
        "# Moving average with window size 3 (manual using slicing)\n",
        "window_size = 3\n",
        "moving_avg_manual = [\n",
        "    sum(data[i:i+window_size]) / window_size\n",
        "    for i in range(len(data) - window_size + 1)\n",
        "]\n",
        "\n",
        "# Moving average using numpy.convolve\n",
        "weights = np.ones(window_size) / window_size\n",
        "moving_avg_numpy = np.convolve(data, weights, mode='valid')\n",
        "\n",
        "print(\"Data:\", data)\n",
        "print(\"Manual Moving Avg:\", moving_avg_manual)\n",
        "print(\"NumPy Moving Avg:\", moving_avg_numpy.tolist())\n"
      ],
      "metadata": {
        "colab": {
          "base_uri": "https://localhost:8080/"
        },
        "id": "nmBy6xiCJM_h",
        "outputId": "42518b71-774e-4dc1-d453-7ef56108740a"
      },
      "execution_count": 2,
      "outputs": [
        {
          "output_type": "stream",
          "name": "stdout",
          "text": [
            "Data: [17, 56, 26, 2, 48, 31, 59, 57, 87, 66, 37, 1, 13, 73, 77, 4, 34, 69, 91, 46]\n",
            "Manual Moving Avg: [33.0, 28.0, 25.333333333333332, 27.0, 46.0, 49.0, 67.66666666666667, 70.0, 63.333333333333336, 34.666666666666664, 17.0, 29.0, 54.333333333333336, 51.333333333333336, 38.333333333333336, 35.666666666666664, 64.66666666666667, 68.66666666666667]\n",
            "NumPy Moving Avg: [32.99999999999999, 27.999999999999996, 25.333333333333332, 27.0, 46.0, 49.0, 67.66666666666666, 70.0, 63.33333333333333, 34.666666666666664, 17.0, 29.0, 54.33333333333333, 51.333333333333336, 38.33333333333333, 35.666666666666664, 64.66666666666666, 68.66666666666666]\n"
          ]
        }
      ]
    },
    {
      "cell_type": "code",
      "source": [
        "# Generate data: 25 numbers from 1-50 + 300 and 400\n",
        "data_outliers = list(range(1, 26)) + [300, 400]\n",
        "\n",
        "# Sort data\n",
        "data_outliers.sort()\n",
        "\n",
        "# Calculate Q1, Q3\n",
        "Q1 = np.percentile(data_outliers, 25)\n",
        "Q3 = np.percentile(data_outliers, 75)\n",
        "IQR = Q3 - Q1\n",
        "\n",
        "# Determine outlier thresholds\n",
        "lower_bound = Q1 - 1.5 * IQR\n",
        "upper_bound = Q3 + 1.5 * IQR\n",
        "\n",
        "# Find outliers\n",
        "outliers = [x for x in data_outliers if x < lower_bound or x > upper_bound]\n",
        "\n",
        "print(\"Data:\", data_outliers)\n",
        "print(f\"Q1={Q1}, Q3={Q3}, IQR={IQR}\")\n",
        "print(f\"Lower Bound={lower_bound}, Upper Bound={upper_bound}\")\n",
        "print(\"Outliers:\", outliers)"
      ],
      "metadata": {
        "colab": {
          "base_uri": "https://localhost:8080/"
        },
        "id": "iWfBpQlMJQb4",
        "outputId": "8c91bb00-4c6c-465f-803c-55db3ae403f2"
      },
      "execution_count": 3,
      "outputs": [
        {
          "output_type": "stream",
          "name": "stdout",
          "text": [
            "Data: [1, 2, 3, 4, 5, 6, 7, 8, 9, 10, 11, 12, 13, 14, 15, 16, 17, 18, 19, 20, 21, 22, 23, 24, 25, 300, 400]\n",
            "Q1=7.5, Q3=20.5, IQR=13.0\n",
            "Lower Bound=-12.0, Upper Bound=40.0\n",
            "Outliers: [300, 400]\n"
          ]
        }
      ]
    },
    {
      "cell_type": "code",
      "source": [],
      "metadata": {
        "id": "lRvkLmf0JVEe"
      },
      "execution_count": null,
      "outputs": []
    }
  ]
}